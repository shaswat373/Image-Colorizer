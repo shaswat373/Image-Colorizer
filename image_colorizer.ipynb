{
  "nbformat": 4,
  "nbformat_minor": 0,
  "metadata": {
    "colab": {
      "provenance": []
    },
    "kernelspec": {
      "name": "python3",
      "display_name": "Python 3"
    },
    "language_info": {
      "name": "python"
    }
  },
  "cells": [
    {
      "cell_type": "code",
      "source": [
        "# Setup\n",
        "import numpy as np\n",
        "import matplotlib.pyplot as plt\n",
        "import tensorflow as tf\n",
        "from tensorflow.keras.models import load_model\n",
        "from skimage.color import lab2rgb\n",
        "from PIL import Image\n",
        "import io\n",
        "from google.colab import files\n",
        "import urllib.request\n",
        "import os\n",
        "\n",
        "# Downloading and Loading Models\n",
        "model_url = \"https://github.com/shaswat373/Image-Colorizer/raw/main/colorizer_model.h5\"\n",
        "model_path = \"colorizer_model.h5\"\n",
        "\n",
        "if not os.path.exists(model_path):\n",
        "    print(\"Downloading model from GitHub...\")\n",
        "    urllib.request.urlretrieve(model_url, model_path)\n",
        "    print(\"Model downloaded.\")\n",
        "\n",
        "model = load_model(model_path, compile=False)\n",
        "print(\"Model loaded successfully.\")\n",
        "\n",
        "# Image Upload\n",
        "print(\"Please upload a grayscale image (32x32)...\")\n",
        "uploaded = files.upload()\n",
        "\n",
        "for filename in uploaded:\n",
        "    # Load image and convert to grayscale\n",
        "    image = Image.open(io.BytesIO(uploaded[filename])).convert('L')\n",
        "    image = image.resize((32, 32))\n",
        "    l_channel = np.array(image).astype('float32') / 255.0  # normalize to [0,1]\n",
        "    l_channel = l_channel.reshape(1, 32, 32, 1)  # reshape for model\n",
        "\n",
        "    ab_pred = model.predict(l_channel)[0] * 128.0  # unnormalize ab\n",
        "\n",
        "    lab_image = np.zeros((32, 32, 3))\n",
        "    lab_image[:, :, 0] = l_channel[0, :, :, 0] * 100.0  # unnormalize L\n",
        "    lab_image[:, :, 1:] = ab_pred\n",
        "    rgb_result = lab2rgb(lab_image)\n",
        "\n",
        "    # Display\n",
        "    plt.figure(figsize=(8, 4))\n",
        "\n",
        "    # Grayscale input\n",
        "    plt.subplot(1, 2, 1)\n",
        "    plt.imshow(image, cmap='gray')\n",
        "    plt.title(\"Grayscale Input\")\n",
        "    plt.axis('off')\n",
        "\n",
        "    # Colorized output\n",
        "    plt.subplot(1, 2, 2)\n",
        "    plt.imshow(rgb_result)\n",
        "    plt.title(\"Colorized Output\")\n",
        "    plt.axis('off')\n",
        "\n",
        "    plt.tight_layout()\n",
        "    plt.show()\n"
      ],
      "metadata": {
        "id": "3ht3Zn1smAN3"
      },
      "execution_count": null,
      "outputs": []
    }
  ]
}